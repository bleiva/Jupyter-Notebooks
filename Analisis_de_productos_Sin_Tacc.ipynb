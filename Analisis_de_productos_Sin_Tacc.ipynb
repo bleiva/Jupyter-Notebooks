{
 "cells": [
  {
   "cell_type": "markdown",
   "metadata": {},
   "source": [
    "# Anlisis de productos Sin Tacc"
   ]
  },
  {
   "cell_type": "markdown",
   "metadata": {},
   "source": [
    "El siguiente notebook de jupyter fue creado con la intención de analizar los datos de la página de Anmat en relación a los tipos productos sin tacc y sus respectivas marcas."
   ]
  },
  {
   "cell_type": "markdown",
   "metadata": {},
   "source": [
    "* https://extranet.anmat.gov.ar/ALG_Mobile/asp/wfAlimentos.aspx"
   ]
  },
  {
   "cell_type": "markdown",
   "metadata": {},
   "source": [
    "Voy a utilizar las herramientas Beatiful Soup con Python para la extracción de información de la web, y Pandas para organizar los datos y mostrarlos en pantalla."
   ]
  },
  {
   "cell_type": "markdown",
   "metadata": {},
   "source": [
    "## Importar librerías"
   ]
  },
  {
   "cell_type": "code",
   "execution_count": 1,
   "metadata": {},
   "outputs": [],
   "source": [
    "import pandas as pd\n",
    "import numpy as np\n",
    "import matplotlib.pyplot as plt\n",
    "import seaborn as sns\n",
    "import requests\n",
    "import re\n",
    "from bs4 import BeautifulSoup\n",
    "%matplotlib inline"
   ]
  },
  {
   "cell_type": "code",
   "execution_count": null,
   "metadata": {},
   "outputs": [],
   "source": [
    "!pip install plotly"
   ]
  },
  {
   "cell_type": "code",
   "execution_count": 25,
   "metadata": {},
   "outputs": [],
   "source": [
    "import plotly \n",
    "import plotly.plotly as py\n",
    "import plotly.graph_objs as go"
   ]
  },
  {
   "cell_type": "markdown",
   "metadata": {},
   "source": [
    "## Parseo de datos"
   ]
  },
  {
   "cell_type": "markdown",
   "metadata": {},
   "source": [
    "* Hago una copia de la web, y la descargo completa"
   ]
  },
  {
   "cell_type": "code",
   "execution_count": 2,
   "metadata": {},
   "outputs": [],
   "source": [
    "soup = BeautifulSoup(open(\"./ALG On line.html\"), \"html.parser\")"
   ]
  },
  {
   "cell_type": "code",
   "execution_count": 3,
   "metadata": {},
   "outputs": [],
   "source": [
    "array = []\n",
    "\n",
    "for tr in soup.find_all('tr'):\n",
    "    td = tr.find_all('td')\n",
    "    row = [tr.text for tr in td]\n",
    "    array.append(row)\n",
    "    \n",
    "df = pd.DataFrame(array, columns=[\"Tipo de producto\", \"Marca\", \"Nombre de Fantasía\",\"Denominación de venta\",\"RNPA\"])"
   ]
  },
  {
   "cell_type": "code",
   "execution_count": 4,
   "metadata": {},
   "outputs": [],
   "source": [
    "df = df.dropna()"
   ]
  },
  {
   "cell_type": "markdown",
   "metadata": {},
   "source": [
    "## Analizo los datos"
   ]
  },
  {
   "cell_type": "code",
   "execution_count": 5,
   "metadata": {},
   "outputs": [
    {
     "data": {
      "text/html": [
       "<div>\n",
       "<style scoped>\n",
       "    .dataframe tbody tr th:only-of-type {\n",
       "        vertical-align: middle;\n",
       "    }\n",
       "\n",
       "    .dataframe tbody tr th {\n",
       "        vertical-align: top;\n",
       "    }\n",
       "\n",
       "    .dataframe thead th {\n",
       "        text-align: right;\n",
       "    }\n",
       "</style>\n",
       "<table border=\"1\" class=\"dataframe\">\n",
       "  <thead>\n",
       "    <tr style=\"text-align: right;\">\n",
       "      <th></th>\n",
       "      <th>Tipo de producto</th>\n",
       "      <th>Marca</th>\n",
       "      <th>Nombre de Fantasía</th>\n",
       "      <th>Denominación de venta</th>\n",
       "      <th>RNPA</th>\n",
       "    </tr>\n",
       "  </thead>\n",
       "  <tbody>\n",
       "    <tr>\n",
       "      <th>1</th>\n",
       "      <td>Aceites</td>\n",
       "      <td>Abedul</td>\n",
       "      <td>No registra</td>\n",
       "      <td>Aceite de maíz, libre de gluten, sin TACC</td>\n",
       "      <td>02-508542</td>\n",
       "    </tr>\n",
       "    <tr>\n",
       "      <th>2</th>\n",
       "      <td>Aceites</td>\n",
       "      <td>Abedul</td>\n",
       "      <td>No registra</td>\n",
       "      <td>Aceite de maíz - Libre de gluten</td>\n",
       "      <td>02-519714</td>\n",
       "    </tr>\n",
       "    <tr>\n",
       "      <th>3</th>\n",
       "      <td>Aceites</td>\n",
       "      <td>Abedul.</td>\n",
       "      <td>No registra</td>\n",
       "      <td>Aceite de oliva virgen libre de gluten.</td>\n",
       "      <td>02-598508</td>\n",
       "    </tr>\n",
       "    <tr>\n",
       "      <th>4</th>\n",
       "      <td>Aceites</td>\n",
       "      <td>Abremundos</td>\n",
       "      <td>Aznar Pelleriti</td>\n",
       "      <td>Aceite de oliva virgen extra - Libre de gluten</td>\n",
       "      <td>13043077</td>\n",
       "    </tr>\n",
       "    <tr>\n",
       "      <th>5</th>\n",
       "      <td>Aceites</td>\n",
       "      <td>Alimentos Tomy</td>\n",
       "      <td>No registra</td>\n",
       "      <td>Aceite de oliva extra libre de gluten</td>\n",
       "      <td>03003988-2</td>\n",
       "    </tr>\n",
       "    <tr>\n",
       "      <th>6</th>\n",
       "      <td>Aceites</td>\n",
       "      <td>Almalegre</td>\n",
       "      <td>No registra</td>\n",
       "      <td>Aceite de oliva virgen extra orgánico - Libre ...</td>\n",
       "      <td>13043915</td>\n",
       "    </tr>\n",
       "    <tr>\n",
       "      <th>7</th>\n",
       "      <td>Aceites</td>\n",
       "      <td>Almalegre</td>\n",
       "      <td>No registra</td>\n",
       "      <td>Aceite de oliva virgen extra - Libre de gluten</td>\n",
       "      <td>13043916</td>\n",
       "    </tr>\n",
       "    <tr>\n",
       "      <th>8</th>\n",
       "      <td>Aceites</td>\n",
       "      <td>Alsamar</td>\n",
       "      <td>No registra</td>\n",
       "      <td>Aceite de girasol alto oleico libre de gluten</td>\n",
       "      <td>21-110318</td>\n",
       "    </tr>\n",
       "    <tr>\n",
       "      <th>9</th>\n",
       "      <td>Aceites</td>\n",
       "      <td>Alsamar</td>\n",
       "      <td>No registra</td>\n",
       "      <td>Aceite de girasol libre de gluten</td>\n",
       "      <td>21-004564</td>\n",
       "    </tr>\n",
       "    <tr>\n",
       "      <th>10</th>\n",
       "      <td>Aceites</td>\n",
       "      <td>Arcor</td>\n",
       "      <td>No registra</td>\n",
       "      <td>Aceite de maíz - Libre de gluten</td>\n",
       "      <td>02-524255</td>\n",
       "    </tr>\n",
       "  </tbody>\n",
       "</table>\n",
       "</div>"
      ],
      "text/plain": [
       "   Tipo de producto           Marca Nombre de Fantasía  \\\n",
       "1           Aceites          Abedul        No registra   \n",
       "2           Aceites          Abedul        No registra   \n",
       "3           Aceites         Abedul.        No registra   \n",
       "4           Aceites      Abremundos    Aznar Pelleriti   \n",
       "5           Aceites  Alimentos Tomy        No registra   \n",
       "6           Aceites       Almalegre        No registra   \n",
       "7           Aceites       Almalegre        No registra   \n",
       "8           Aceites         Alsamar        No registra   \n",
       "9           Aceites         Alsamar        No registra   \n",
       "10          Aceites           Arcor        No registra   \n",
       "\n",
       "                                Denominación de venta        RNPA  \n",
       "1           Aceite de maíz, libre de gluten, sin TACC   02-508542  \n",
       "2                   Aceite de maíz - Libre de gluten    02-519714  \n",
       "3             Aceite de oliva virgen libre de gluten.   02-598508  \n",
       "4      Aceite de oliva virgen extra - Libre de gluten    13043077  \n",
       "5               Aceite de oliva extra libre de gluten  03003988-2  \n",
       "6   Aceite de oliva virgen extra orgánico - Libre ...    13043915  \n",
       "7      Aceite de oliva virgen extra - Libre de gluten    13043916  \n",
       "8       Aceite de girasol alto oleico libre de gluten   21-110318  \n",
       "9                  Aceite de girasol libre de gluten    21-004564  \n",
       "10                   Aceite de maíz - Libre de gluten   02-524255  "
      ]
     },
     "execution_count": 5,
     "metadata": {},
     "output_type": "execute_result"
    }
   ],
   "source": [
    "df.head(10)"
   ]
  },
  {
   "cell_type": "code",
   "execution_count": 6,
   "metadata": {
    "scrolled": false
   },
   "outputs": [
    {
     "name": "stdout",
     "output_type": "stream",
     "text": [
      "<class 'pandas.core.frame.DataFrame'>\n",
      "Int64Index: 14376 entries, 1 to 14376\n",
      "Data columns (total 5 columns):\n",
      "Tipo de producto         14376 non-null object\n",
      "Marca                    14376 non-null object\n",
      "Nombre de Fantasía       14376 non-null object\n",
      "Denominación de venta    14376 non-null object\n",
      "RNPA                     14376 non-null object\n",
      "dtypes: object(5)\n",
      "memory usage: 673.9+ KB\n"
     ]
    }
   ],
   "source": [
    "df.info()"
   ]
  },
  {
   "cell_type": "markdown",
   "metadata": {},
   "source": [
    "### Cantidad total de productos en el listado de ANMAT: 14376"
   ]
  },
  {
   "cell_type": "code",
   "execution_count": 7,
   "metadata": {},
   "outputs": [
    {
     "data": {
      "text/plain": [
       "No registra      441\n",
       "La Serenísima    149\n",
       "Vacalin          117\n",
       "Great Value      100\n",
       "Mapsa             99\n",
       "Carrefour         93\n",
       "Canale            90\n",
       "Día %             88\n",
       "Arcor             87\n",
       "Dulcor            84\n",
       "Name: Marca, dtype: int64"
      ]
     },
     "execution_count": 7,
     "metadata": {},
     "output_type": "execute_result"
    }
   ],
   "source": [
    "df[\"Marca\"].value_counts().head(10)"
   ]
  },
  {
   "cell_type": "markdown",
   "metadata": {},
   "source": [
    "* Agrupo por marca"
   ]
  },
  {
   "cell_type": "code",
   "execution_count": 8,
   "metadata": {},
   "outputs": [],
   "source": [
    "df_products = df.groupby([\"Marca\"])[\"Tipo de producto\"].count().reset_index(name='Cantidad de productos')"
   ]
  },
  {
   "cell_type": "markdown",
   "metadata": {},
   "source": [
    "* Elimino registro \"No registra\""
   ]
  },
  {
   "cell_type": "code",
   "execution_count": 9,
   "metadata": {},
   "outputs": [],
   "source": [
    "df_products = df_products.drop(df_products[df_products[\"Marca\"]==\"No registra\"].index,0)"
   ]
  },
  {
   "cell_type": "markdown",
   "metadata": {},
   "source": [
    "* Muestro las marcas con mayores productos sin tacc (Mayor a 50)"
   ]
  },
  {
   "cell_type": "code",
   "execution_count": 10,
   "metadata": {},
   "outputs": [],
   "source": [
    "df_products = df_products[df_products[\"Cantidad de productos\"]>50].sort_values(by=\"Cantidad de productos\", ascending=False)"
   ]
  },
  {
   "cell_type": "markdown",
   "metadata": {},
   "source": [
    "### Cantidad de productos ordenados por marca que aparecen en el listado de ANMAT"
   ]
  },
  {
   "cell_type": "code",
   "execution_count": 11,
   "metadata": {},
   "outputs": [
    {
     "data": {
      "text/html": [
       "<div>\n",
       "<style scoped>\n",
       "    .dataframe tbody tr th:only-of-type {\n",
       "        vertical-align: middle;\n",
       "    }\n",
       "\n",
       "    .dataframe tbody tr th {\n",
       "        vertical-align: top;\n",
       "    }\n",
       "\n",
       "    .dataframe thead th {\n",
       "        text-align: right;\n",
       "    }\n",
       "</style>\n",
       "<table border=\"1\" class=\"dataframe\">\n",
       "  <thead>\n",
       "    <tr style=\"text-align: right;\">\n",
       "      <th></th>\n",
       "      <th>Marca</th>\n",
       "      <th>Cantidad de productos</th>\n",
       "    </tr>\n",
       "  </thead>\n",
       "  <tbody>\n",
       "    <tr>\n",
       "      <th>1466</th>\n",
       "      <td>La Serenísima</td>\n",
       "      <td>149</td>\n",
       "    </tr>\n",
       "    <tr>\n",
       "      <th>2964</th>\n",
       "      <td>Vacalin</td>\n",
       "      <td>117</td>\n",
       "    </tr>\n",
       "    <tr>\n",
       "      <th>1205</th>\n",
       "      <td>Great Value</td>\n",
       "      <td>100</td>\n",
       "    </tr>\n",
       "    <tr>\n",
       "      <th>1728</th>\n",
       "      <td>Mapsa</td>\n",
       "      <td>99</td>\n",
       "    </tr>\n",
       "    <tr>\n",
       "      <th>435</th>\n",
       "      <td>Carrefour</td>\n",
       "      <td>93</td>\n",
       "    </tr>\n",
       "    <tr>\n",
       "      <th>408</th>\n",
       "      <td>Canale</td>\n",
       "      <td>90</td>\n",
       "    </tr>\n",
       "    <tr>\n",
       "      <th>819</th>\n",
       "      <td>Día %</td>\n",
       "      <td>88</td>\n",
       "    </tr>\n",
       "    <tr>\n",
       "      <th>145</th>\n",
       "      <td>Arcor</td>\n",
       "      <td>87</td>\n",
       "    </tr>\n",
       "    <tr>\n",
       "      <th>789</th>\n",
       "      <td>Dulcor</td>\n",
       "      <td>84</td>\n",
       "    </tr>\n",
       "    <tr>\n",
       "      <th>2636</th>\n",
       "      <td>Santa María</td>\n",
       "      <td>81</td>\n",
       "    </tr>\n",
       "    <tr>\n",
       "      <th>1402</th>\n",
       "      <td>La Campagnola</td>\n",
       "      <td>78</td>\n",
       "    </tr>\n",
       "    <tr>\n",
       "      <th>734</th>\n",
       "      <td>Dimax</td>\n",
       "      <td>71</td>\n",
       "    </tr>\n",
       "    <tr>\n",
       "      <th>889</th>\n",
       "      <td>Emeth</td>\n",
       "      <td>68</td>\n",
       "    </tr>\n",
       "    <tr>\n",
       "      <th>1707</th>\n",
       "      <td>Mamuschka</td>\n",
       "      <td>64</td>\n",
       "    </tr>\n",
       "    <tr>\n",
       "      <th>1960</th>\n",
       "      <td>Nani</td>\n",
       "      <td>64</td>\n",
       "    </tr>\n",
       "    <tr>\n",
       "      <th>2989</th>\n",
       "      <td>Vanoli</td>\n",
       "      <td>61</td>\n",
       "    </tr>\n",
       "    <tr>\n",
       "      <th>2926</th>\n",
       "      <td>Tregar</td>\n",
       "      <td>60</td>\n",
       "    </tr>\n",
       "    <tr>\n",
       "      <th>1273</th>\n",
       "      <td>Ilolay</td>\n",
       "      <td>59</td>\n",
       "    </tr>\n",
       "    <tr>\n",
       "      <th>2618</th>\n",
       "      <td>Sancor Yogs</td>\n",
       "      <td>57</td>\n",
       "    </tr>\n",
       "    <tr>\n",
       "      <th>2526</th>\n",
       "      <td>Saint Gottard</td>\n",
       "      <td>55</td>\n",
       "    </tr>\n",
       "    <tr>\n",
       "      <th>3016</th>\n",
       "      <td>Verónica</td>\n",
       "      <td>53</td>\n",
       "    </tr>\n",
       "    <tr>\n",
       "      <th>72</th>\n",
       "      <td>Alco</td>\n",
       "      <td>51</td>\n",
       "    </tr>\n",
       "    <tr>\n",
       "      <th>1447</th>\n",
       "      <td>La Paulina</td>\n",
       "      <td>51</td>\n",
       "    </tr>\n",
       "  </tbody>\n",
       "</table>\n",
       "</div>"
      ],
      "text/plain": [
       "              Marca  Cantidad de productos\n",
       "1466  La Serenísima                    149\n",
       "2964        Vacalin                    117\n",
       "1205    Great Value                    100\n",
       "1728          Mapsa                     99\n",
       "435       Carrefour                     93\n",
       "408          Canale                     90\n",
       "819           Día %                     88\n",
       "145           Arcor                     87\n",
       "789          Dulcor                     84\n",
       "2636    Santa María                     81\n",
       "1402  La Campagnola                     78\n",
       "734           Dimax                     71\n",
       "889           Emeth                     68\n",
       "1707      Mamuschka                     64\n",
       "1960           Nani                     64\n",
       "2989         Vanoli                     61\n",
       "2926        Tregar                      60\n",
       "1273        Ilolay                      59\n",
       "2618    Sancor Yogs                     57\n",
       "2526  Saint Gottard                     55\n",
       "3016      Verónica                      53\n",
       "72             Alco                     51\n",
       "1447     La Paulina                     51"
      ]
     },
     "execution_count": 11,
     "metadata": {},
     "output_type": "execute_result"
    }
   ],
   "source": [
    "df_products"
   ]
  },
  {
   "cell_type": "markdown",
   "metadata": {},
   "source": [
    "* Marcas, cantidad de productos > 70"
   ]
  },
  {
   "cell_type": "code",
   "execution_count": 12,
   "metadata": {
    "scrolled": false
   },
   "outputs": [
    {
     "data": {
      "image/png": "[encoded data removed]",
      "text/plain": [
       "<Figure size 1080x360 with 1 Axes>"
      ]
     },
     "metadata": {
      "needs_background": "light"
     },
     "output_type": "display_data"
    }
   ],
   "source": [
    "plt.figure(figsize=(15, 5))\n",
    "ax = sns.barplot(x=\"Marca\", y=\"Cantidad de productos\", data=df_products[df_products[\"Cantidad de productos\"]>70])"
   ]
  },
  {
   "cell_type": "markdown",
   "metadata": {},
   "source": [
    "* Ordenados por tipos de producto"
   ]
  },
  {
   "cell_type": "code",
   "execution_count": 13,
   "metadata": {},
   "outputs": [],
   "source": [
    "df_type_products = df.groupby([\"Tipo de producto\"])[\"Marca\"].count().reset_index(name='Cantidad')"
   ]
  },
  {
   "cell_type": "code",
   "execution_count": 14,
   "metadata": {},
   "outputs": [],
   "source": [
    "df_type_products = df_type_products.sort_values(by=\"Cantidad\", ascending=False)"
   ]
  },
  {
   "cell_type": "code",
   "execution_count": 15,
   "metadata": {
    "scrolled": true
   },
   "outputs": [
    {
     "data": {
      "text/html": [
       "<div>\n",
       "<style scoped>\n",
       "    .dataframe tbody tr th:only-of-type {\n",
       "        vertical-align: middle;\n",
       "    }\n",
       "\n",
       "    .dataframe tbody tr th {\n",
       "        vertical-align: top;\n",
       "    }\n",
       "\n",
       "    .dataframe thead th {\n",
       "        text-align: right;\n",
       "    }\n",
       "</style>\n",
       "<table border=\"1\" class=\"dataframe\">\n",
       "  <thead>\n",
       "    <tr style=\"text-align: right;\">\n",
       "      <th></th>\n",
       "      <th>Tipo de producto</th>\n",
       "      <th>Cantidad</th>\n",
       "    </tr>\n",
       "  </thead>\n",
       "  <tbody>\n",
       "    <tr>\n",
       "      <th>49</th>\n",
       "      <td>Quesos</td>\n",
       "      <td>1477</td>\n",
       "    </tr>\n",
       "    <tr>\n",
       "      <th>42</th>\n",
       "      <td>Mermeladas, confituras y dulces</td>\n",
       "      <td>809</td>\n",
       "    </tr>\n",
       "    <tr>\n",
       "      <th>20</th>\n",
       "      <td>Cereales, harinas, premezclas y semillas</td>\n",
       "      <td>805</td>\n",
       "    </tr>\n",
       "    <tr>\n",
       "      <th>33</th>\n",
       "      <td>Galletas y galletitas</td>\n",
       "      <td>756</td>\n",
       "    </tr>\n",
       "    <tr>\n",
       "      <th>36</th>\n",
       "      <td>Leches</td>\n",
       "      <td>582</td>\n",
       "    </tr>\n",
       "    <tr>\n",
       "      <th>26</th>\n",
       "      <td>Conservas de hortalizas, verduras y legumbres</td>\n",
       "      <td>580</td>\n",
       "    </tr>\n",
       "    <tr>\n",
       "      <th>45</th>\n",
       "      <td>Postres, flanes y helados listos para consumir</td>\n",
       "      <td>561</td>\n",
       "    </tr>\n",
       "    <tr>\n",
       "      <th>30</th>\n",
       "      <td>Fiambres y embutidos</td>\n",
       "      <td>527</td>\n",
       "    </tr>\n",
       "    <tr>\n",
       "      <th>57</th>\n",
       "      <td>Yogures</td>\n",
       "      <td>518</td>\n",
       "    </tr>\n",
       "    <tr>\n",
       "      <th>12</th>\n",
       "      <td>Bebidas sin alcohol y productos para prepararlas</td>\n",
       "      <td>486</td>\n",
       "    </tr>\n",
       "    <tr>\n",
       "      <th>25</th>\n",
       "      <td>Conservas de frutas</td>\n",
       "      <td>478</td>\n",
       "    </tr>\n",
       "    <tr>\n",
       "      <th>53</th>\n",
       "      <td>Suplementos dietarios</td>\n",
       "      <td>467</td>\n",
       "    </tr>\n",
       "    <tr>\n",
       "      <th>22</th>\n",
       "      <td>Comidas preparadas y semielaboradas</td>\n",
       "      <td>379</td>\n",
       "    </tr>\n",
       "    <tr>\n",
       "      <th>17</th>\n",
       "      <td>Caramelos, chicles, confites y pastillas</td>\n",
       "      <td>340</td>\n",
       "    </tr>\n",
       "    <tr>\n",
       "      <th>1</th>\n",
       "      <td>Aditivos y materias primas para la industria</td>\n",
       "      <td>339</td>\n",
       "    </tr>\n",
       "    <tr>\n",
       "      <th>51</th>\n",
       "      <td>Salsas, aderezos y aliños</td>\n",
       "      <td>330</td>\n",
       "    </tr>\n",
       "    <tr>\n",
       "      <th>43</th>\n",
       "      <td>Panes y productos de panadería</td>\n",
       "      <td>326</td>\n",
       "    </tr>\n",
       "    <tr>\n",
       "      <th>47</th>\n",
       "      <td>Productos de repostería</td>\n",
       "      <td>287</td>\n",
       "    </tr>\n",
       "    <tr>\n",
       "      <th>21</th>\n",
       "      <td>Coberturas, rellenos y salsas dulces</td>\n",
       "      <td>275</td>\n",
       "    </tr>\n",
       "    <tr>\n",
       "      <th>28</th>\n",
       "      <td>Dulces de leche</td>\n",
       "      <td>269</td>\n",
       "    </tr>\n",
       "    <tr>\n",
       "      <th>44</th>\n",
       "      <td>Pastas secas y frescas, rellenas y sin relleno</td>\n",
       "      <td>267</td>\n",
       "    </tr>\n",
       "    <tr>\n",
       "      <th>13</th>\n",
       "      <td>Bombones y chocolates</td>\n",
       "      <td>219</td>\n",
       "    </tr>\n",
       "    <tr>\n",
       "      <th>52</th>\n",
       "      <td>Snacks</td>\n",
       "      <td>215</td>\n",
       "    </tr>\n",
       "    <tr>\n",
       "      <th>18</th>\n",
       "      <td>Carnes (vacuno, pollo, cerdo, pescado y otras)</td>\n",
       "      <td>211</td>\n",
       "    </tr>\n",
       "    <tr>\n",
       "      <th>54</th>\n",
       "      <td>Tés e infusiones</td>\n",
       "      <td>210</td>\n",
       "    </tr>\n",
       "    <tr>\n",
       "      <th>0</th>\n",
       "      <td>Aceites</td>\n",
       "      <td>202</td>\n",
       "    </tr>\n",
       "    <tr>\n",
       "      <th>3</th>\n",
       "      <td>Alfajores</td>\n",
       "      <td>199</td>\n",
       "    </tr>\n",
       "    <tr>\n",
       "      <th>9</th>\n",
       "      <td>Barritas de cereal</td>\n",
       "      <td>191</td>\n",
       "    </tr>\n",
       "    <tr>\n",
       "      <th>48</th>\n",
       "      <td>Productos para preparar postres, flanes, gelat...</td>\n",
       "      <td>189</td>\n",
       "    </tr>\n",
       "    <tr>\n",
       "      <th>15</th>\n",
       "      <td>Cafés y sustitutos</td>\n",
       "      <td>189</td>\n",
       "    </tr>\n",
       "    <tr>\n",
       "      <th>56</th>\n",
       "      <td>Yerba mate</td>\n",
       "      <td>177</td>\n",
       "    </tr>\n",
       "    <tr>\n",
       "      <th>24</th>\n",
       "      <td>Conservas de carnes</td>\n",
       "      <td>123</td>\n",
       "    </tr>\n",
       "    <tr>\n",
       "      <th>7</th>\n",
       "      <td>Alimentos para propósitos médicos específicos</td>\n",
       "      <td>123</td>\n",
       "    </tr>\n",
       "    <tr>\n",
       "      <th>5</th>\n",
       "      <td>Alimentos para lactantes (0-12 meses)</td>\n",
       "      <td>118</td>\n",
       "    </tr>\n",
       "    <tr>\n",
       "      <th>35</th>\n",
       "      <td>Hortalizas, verduras y hongos</td>\n",
       "      <td>110</td>\n",
       "    </tr>\n",
       "    <tr>\n",
       "      <th>27</th>\n",
       "      <td>Cremas</td>\n",
       "      <td>98</td>\n",
       "    </tr>\n",
       "    <tr>\n",
       "      <th>46</th>\n",
       "      <td>Productos de confitería</td>\n",
       "      <td>98</td>\n",
       "    </tr>\n",
       "    <tr>\n",
       "      <th>10</th>\n",
       "      <td>Bebidas a base de leche</td>\n",
       "      <td>92</td>\n",
       "    </tr>\n",
       "    <tr>\n",
       "      <th>40</th>\n",
       "      <td>Mantecas</td>\n",
       "      <td>90</td>\n",
       "    </tr>\n",
       "    <tr>\n",
       "      <th>8</th>\n",
       "      <td>Azúcares y mieles</td>\n",
       "      <td>71</td>\n",
       "    </tr>\n",
       "    <tr>\n",
       "      <th>19</th>\n",
       "      <td>Cereales para desayuno</td>\n",
       "      <td>64</td>\n",
       "    </tr>\n",
       "    <tr>\n",
       "      <th>11</th>\n",
       "      <td>Bebidas alcohólicas</td>\n",
       "      <td>57</td>\n",
       "    </tr>\n",
       "    <tr>\n",
       "      <th>29</th>\n",
       "      <td>Edulcorantes de mesa</td>\n",
       "      <td>57</td>\n",
       "    </tr>\n",
       "    <tr>\n",
       "      <th>32</th>\n",
       "      <td>Frutas secas y desecadas</td>\n",
       "      <td>56</td>\n",
       "    </tr>\n",
       "    <tr>\n",
       "      <th>23</th>\n",
       "      <td>Condimentos</td>\n",
       "      <td>50</td>\n",
       "    </tr>\n",
       "    <tr>\n",
       "      <th>34</th>\n",
       "      <td>Golosinas</td>\n",
       "      <td>49</td>\n",
       "    </tr>\n",
       "    <tr>\n",
       "      <th>39</th>\n",
       "      <td>Leudantes</td>\n",
       "      <td>44</td>\n",
       "    </tr>\n",
       "    <tr>\n",
       "      <th>6</th>\n",
       "      <td>Alimentos para niños en primera infancia (1-3 ...</td>\n",
       "      <td>42</td>\n",
       "    </tr>\n",
       "    <tr>\n",
       "      <th>16</th>\n",
       "      <td>Caldos y sopas</td>\n",
       "      <td>37</td>\n",
       "    </tr>\n",
       "    <tr>\n",
       "      <th>37</th>\n",
       "      <td>Leches fermentadas</td>\n",
       "      <td>34</td>\n",
       "    </tr>\n",
       "    <tr>\n",
       "      <th>14</th>\n",
       "      <td>Cacaos</td>\n",
       "      <td>34</td>\n",
       "    </tr>\n",
       "    <tr>\n",
       "      <th>41</th>\n",
       "      <td>Margarinas</td>\n",
       "      <td>24</td>\n",
       "    </tr>\n",
       "    <tr>\n",
       "      <th>38</th>\n",
       "      <td>Legumbres</td>\n",
       "      <td>18</td>\n",
       "    </tr>\n",
       "    <tr>\n",
       "      <th>50</th>\n",
       "      <td>Sales</td>\n",
       "      <td>17</td>\n",
       "    </tr>\n",
       "    <tr>\n",
       "      <th>4</th>\n",
       "      <td>Algas</td>\n",
       "      <td>3</td>\n",
       "    </tr>\n",
       "    <tr>\n",
       "      <th>2</th>\n",
       "      <td>Aguas y aguas gasificadas</td>\n",
       "      <td>3</td>\n",
       "    </tr>\n",
       "    <tr>\n",
       "      <th>55</th>\n",
       "      <td>Vinos</td>\n",
       "      <td>3</td>\n",
       "    </tr>\n",
       "    <tr>\n",
       "      <th>31</th>\n",
       "      <td>Frutas mínimamente procesadas</td>\n",
       "      <td>1</td>\n",
       "    </tr>\n",
       "  </tbody>\n",
       "</table>\n",
       "</div>"
      ],
      "text/plain": [
       "                                     Tipo de producto  Cantidad\n",
       "49                                             Quesos      1477\n",
       "42                    Mermeladas, confituras y dulces       809\n",
       "20           Cereales, harinas, premezclas y semillas       805\n",
       "33                              Galletas y galletitas       756\n",
       "36                                             Leches       582\n",
       "26      Conservas de hortalizas, verduras y legumbres       580\n",
       "45     Postres, flanes y helados listos para consumir       561\n",
       "30                               Fiambres y embutidos       527\n",
       "57                                            Yogures       518\n",
       "12   Bebidas sin alcohol y productos para prepararlas       486\n",
       "25                                Conservas de frutas       478\n",
       "53                              Suplementos dietarios       467\n",
       "22                Comidas preparadas y semielaboradas       379\n",
       "17           Caramelos, chicles, confites y pastillas       340\n",
       "1        Aditivos y materias primas para la industria       339\n",
       "51                          Salsas, aderezos y aliños       330\n",
       "43                     Panes y productos de panadería       326\n",
       "47                            Productos de repostería       287\n",
       "21               Coberturas, rellenos y salsas dulces       275\n",
       "28                                    Dulces de leche       269\n",
       "44     Pastas secas y frescas, rellenas y sin relleno       267\n",
       "13                              Bombones y chocolates       219\n",
       "52                                             Snacks       215\n",
       "18     Carnes (vacuno, pollo, cerdo, pescado y otras)       211\n",
       "54                                   Tés e infusiones       210\n",
       "0                                             Aceites       202\n",
       "3                                           Alfajores       199\n",
       "9                                  Barritas de cereal       191\n",
       "48  Productos para preparar postres, flanes, gelat...       189\n",
       "15                                 Cafés y sustitutos       189\n",
       "56                                         Yerba mate       177\n",
       "24                                Conservas de carnes       123\n",
       "7       Alimentos para propósitos médicos específicos       123\n",
       "5               Alimentos para lactantes (0-12 meses)       118\n",
       "35                      Hortalizas, verduras y hongos       110\n",
       "27                                             Cremas        98\n",
       "46                            Productos de confitería        98\n",
       "10                            Bebidas a base de leche        92\n",
       "40                                           Mantecas        90\n",
       "8                                   Azúcares y mieles        71\n",
       "19                             Cereales para desayuno        64\n",
       "11                                Bebidas alcohólicas        57\n",
       "29                               Edulcorantes de mesa        57\n",
       "32                           Frutas secas y desecadas        56\n",
       "23                                        Condimentos        50\n",
       "34                                          Golosinas        49\n",
       "39                                          Leudantes        44\n",
       "6   Alimentos para niños en primera infancia (1-3 ...        42\n",
       "16                                     Caldos y sopas        37\n",
       "37                                 Leches fermentadas        34\n",
       "14                                             Cacaos        34\n",
       "41                                         Margarinas        24\n",
       "38                                          Legumbres        18\n",
       "50                                              Sales        17\n",
       "4                                               Algas         3\n",
       "2                           Aguas y aguas gasificadas         3\n",
       "55                                              Vinos         3\n",
       "31                      Frutas mínimamente procesadas         1"
      ]
     },
     "execution_count": 15,
     "metadata": {},
     "output_type": "execute_result"
    }
   ],
   "source": [
    "df_type_products"
   ]
  },
  {
   "cell_type": "markdown",
   "metadata": {},
   "source": [
    "### Cantidad de productos ordenados por tipos"
   ]
  },
  {
   "cell_type": "code",
   "execution_count": 16,
   "metadata": {},
   "outputs": [
    {
     "data": {
      "image/png": "[encoded data removed]",
      "text/plain": [
       "<Figure size 864x576 with 1 Axes>"
      ]
     },
     "metadata": {
      "needs_background": "light"
     },
     "output_type": "display_data"
    }
   ],
   "source": [
    "plt.figure(figsize=(12, 8))\n",
    "sns.set(font_scale=1)\n",
    "ax = sns.barplot(x=\"Cantidad\", y=\"Tipo de producto\", data=df_type_products[df_type_products[\"Cantidad\"]>70])"
   ]
  },
  {
   "cell_type": "code",
   "execution_count": null,
   "metadata": {},
   "outputs": [],
   "source": []
  }
 ],
 "metadata": {
  "kernelspec": {
   "display_name": "Python 3",
   "language": "python",
   "name": "python3"
  },
  "language_info": {
   "codemirror_mode": {
    "name": "ipython",
    "version": 3
   },
   "file_extension": ".py",
   "mimetype": "text/x-python",
   "name": "python",
   "nbconvert_exporter": "python",
   "pygments_lexer": "ipython3",
   "version": "3.7.3"
  }
 },
 "nbformat": 4,
 "nbformat_minor": 2
}
